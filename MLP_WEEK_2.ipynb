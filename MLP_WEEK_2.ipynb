{
  "nbformat": 4,
  "nbformat_minor": 0,
  "metadata": {
    "colab": {
      "provenance": [],
      "authorship_tag": "ABX9TyNcRtSLPIB4aNixMX9VtYI5",
      "include_colab_link": true
    },
    "kernelspec": {
      "name": "python3",
      "display_name": "Python 3"
    },
    "language_info": {
      "name": "python"
    }
  },
  "cells": [
    {
      "cell_type": "markdown",
      "metadata": {
        "id": "view-in-github",
        "colab_type": "text"
      },
      "source": [
        "<a href=\"https://colab.research.google.com/github/ironheart2003/MLP/blob/main/MLP_WEEK_2.ipynb\" target=\"_parent\"><img src=\"https://colab.research.google.com/assets/colab-badge.svg\" alt=\"Open In Colab\"/></a>"
      ]
    },
    {
      "cell_type": "markdown",
      "source": [
        "Q1 . How many features remain after applying following pipeline to the feature matrix?"
      ],
      "metadata": {
        "id": "AL4BCIUAsvSd"
      }
    },
    {
      "cell_type": "code",
      "source": [
        "from google.colab import files\n",
        "uploaded = files.upload()"
      ],
      "metadata": {
        "colab": {
          "base_uri": "https://localhost:8080/",
          "height": 73
        },
        "id": "avBy8z1ssrp8",
        "outputId": "03790530-8c15-4a7f-a0cd-dc05719f9892"
      },
      "execution_count": 1,
      "outputs": [
        {
          "output_type": "display_data",
          "data": {
            "text/plain": [
              "<IPython.core.display.HTML object>"
            ],
            "text/html": [
              "\n",
              "     <input type=\"file\" id=\"files-c8882e00-3ce4-4b50-80df-49496dfb65ff\" name=\"files[]\" multiple disabled\n",
              "        style=\"border:none\" />\n",
              "     <output id=\"result-c8882e00-3ce4-4b50-80df-49496dfb65ff\">\n",
              "      Upload widget is only available when the cell has been executed in the\n",
              "      current browser session. Please rerun this cell to enable.\n",
              "      </output>\n",
              "      <script>// Copyright 2017 Google LLC\n",
              "//\n",
              "// Licensed under the Apache License, Version 2.0 (the \"License\");\n",
              "// you may not use this file except in compliance with the License.\n",
              "// You may obtain a copy of the License at\n",
              "//\n",
              "//      http://www.apache.org/licenses/LICENSE-2.0\n",
              "//\n",
              "// Unless required by applicable law or agreed to in writing, software\n",
              "// distributed under the License is distributed on an \"AS IS\" BASIS,\n",
              "// WITHOUT WARRANTIES OR CONDITIONS OF ANY KIND, either express or implied.\n",
              "// See the License for the specific language governing permissions and\n",
              "// limitations under the License.\n",
              "\n",
              "/**\n",
              " * @fileoverview Helpers for google.colab Python module.\n",
              " */\n",
              "(function(scope) {\n",
              "function span(text, styleAttributes = {}) {\n",
              "  const element = document.createElement('span');\n",
              "  element.textContent = text;\n",
              "  for (const key of Object.keys(styleAttributes)) {\n",
              "    element.style[key] = styleAttributes[key];\n",
              "  }\n",
              "  return element;\n",
              "}\n",
              "\n",
              "// Max number of bytes which will be uploaded at a time.\n",
              "const MAX_PAYLOAD_SIZE = 100 * 1024;\n",
              "\n",
              "function _uploadFiles(inputId, outputId) {\n",
              "  const steps = uploadFilesStep(inputId, outputId);\n",
              "  const outputElement = document.getElementById(outputId);\n",
              "  // Cache steps on the outputElement to make it available for the next call\n",
              "  // to uploadFilesContinue from Python.\n",
              "  outputElement.steps = steps;\n",
              "\n",
              "  return _uploadFilesContinue(outputId);\n",
              "}\n",
              "\n",
              "// This is roughly an async generator (not supported in the browser yet),\n",
              "// where there are multiple asynchronous steps and the Python side is going\n",
              "// to poll for completion of each step.\n",
              "// This uses a Promise to block the python side on completion of each step,\n",
              "// then passes the result of the previous step as the input to the next step.\n",
              "function _uploadFilesContinue(outputId) {\n",
              "  const outputElement = document.getElementById(outputId);\n",
              "  const steps = outputElement.steps;\n",
              "\n",
              "  const next = steps.next(outputElement.lastPromiseValue);\n",
              "  return Promise.resolve(next.value.promise).then((value) => {\n",
              "    // Cache the last promise value to make it available to the next\n",
              "    // step of the generator.\n",
              "    outputElement.lastPromiseValue = value;\n",
              "    return next.value.response;\n",
              "  });\n",
              "}\n",
              "\n",
              "/**\n",
              " * Generator function which is called between each async step of the upload\n",
              " * process.\n",
              " * @param {string} inputId Element ID of the input file picker element.\n",
              " * @param {string} outputId Element ID of the output display.\n",
              " * @return {!Iterable<!Object>} Iterable of next steps.\n",
              " */\n",
              "function* uploadFilesStep(inputId, outputId) {\n",
              "  const inputElement = document.getElementById(inputId);\n",
              "  inputElement.disabled = false;\n",
              "\n",
              "  const outputElement = document.getElementById(outputId);\n",
              "  outputElement.innerHTML = '';\n",
              "\n",
              "  const pickedPromise = new Promise((resolve) => {\n",
              "    inputElement.addEventListener('change', (e) => {\n",
              "      resolve(e.target.files);\n",
              "    });\n",
              "  });\n",
              "\n",
              "  const cancel = document.createElement('button');\n",
              "  inputElement.parentElement.appendChild(cancel);\n",
              "  cancel.textContent = 'Cancel upload';\n",
              "  const cancelPromise = new Promise((resolve) => {\n",
              "    cancel.onclick = () => {\n",
              "      resolve(null);\n",
              "    };\n",
              "  });\n",
              "\n",
              "  // Wait for the user to pick the files.\n",
              "  const files = yield {\n",
              "    promise: Promise.race([pickedPromise, cancelPromise]),\n",
              "    response: {\n",
              "      action: 'starting',\n",
              "    }\n",
              "  };\n",
              "\n",
              "  cancel.remove();\n",
              "\n",
              "  // Disable the input element since further picks are not allowed.\n",
              "  inputElement.disabled = true;\n",
              "\n",
              "  if (!files) {\n",
              "    return {\n",
              "      response: {\n",
              "        action: 'complete',\n",
              "      }\n",
              "    };\n",
              "  }\n",
              "\n",
              "  for (const file of files) {\n",
              "    const li = document.createElement('li');\n",
              "    li.append(span(file.name, {fontWeight: 'bold'}));\n",
              "    li.append(span(\n",
              "        `(${file.type || 'n/a'}) - ${file.size} bytes, ` +\n",
              "        `last modified: ${\n",
              "            file.lastModifiedDate ? file.lastModifiedDate.toLocaleDateString() :\n",
              "                                    'n/a'} - `));\n",
              "    const percent = span('0% done');\n",
              "    li.appendChild(percent);\n",
              "\n",
              "    outputElement.appendChild(li);\n",
              "\n",
              "    const fileDataPromise = new Promise((resolve) => {\n",
              "      const reader = new FileReader();\n",
              "      reader.onload = (e) => {\n",
              "        resolve(e.target.result);\n",
              "      };\n",
              "      reader.readAsArrayBuffer(file);\n",
              "    });\n",
              "    // Wait for the data to be ready.\n",
              "    let fileData = yield {\n",
              "      promise: fileDataPromise,\n",
              "      response: {\n",
              "        action: 'continue',\n",
              "      }\n",
              "    };\n",
              "\n",
              "    // Use a chunked sending to avoid message size limits. See b/62115660.\n",
              "    let position = 0;\n",
              "    do {\n",
              "      const length = Math.min(fileData.byteLength - position, MAX_PAYLOAD_SIZE);\n",
              "      const chunk = new Uint8Array(fileData, position, length);\n",
              "      position += length;\n",
              "\n",
              "      const base64 = btoa(String.fromCharCode.apply(null, chunk));\n",
              "      yield {\n",
              "        response: {\n",
              "          action: 'append',\n",
              "          file: file.name,\n",
              "          data: base64,\n",
              "        },\n",
              "      };\n",
              "\n",
              "      let percentDone = fileData.byteLength === 0 ?\n",
              "          100 :\n",
              "          Math.round((position / fileData.byteLength) * 100);\n",
              "      percent.textContent = `${percentDone}% done`;\n",
              "\n",
              "    } while (position < fileData.byteLength);\n",
              "  }\n",
              "\n",
              "  // All done.\n",
              "  yield {\n",
              "    response: {\n",
              "      action: 'complete',\n",
              "    }\n",
              "  };\n",
              "}\n",
              "\n",
              "scope.google = scope.google || {};\n",
              "scope.google.colab = scope.google.colab || {};\n",
              "scope.google.colab._files = {\n",
              "  _uploadFiles,\n",
              "  _uploadFilesContinue,\n",
              "};\n",
              "})(self);\n",
              "</script> "
            ]
          },
          "metadata": {}
        },
        {
          "output_type": "stream",
          "name": "stdout",
          "text": [
            "Saving Week3_GA_dataset.csv to Week3_GA_dataset.csv\n"
          ]
        }
      ]
    },
    {
      "cell_type": "code",
      "source": [
        "!pip install scikit-learn pandas numpy\n"
      ],
      "metadata": {
        "colab": {
          "base_uri": "https://localhost:8080/"
        },
        "id": "ZasWyYeqs_V_",
        "outputId": "9021427f-5d75-4198-d169-09ae40b01e56"
      },
      "execution_count": 2,
      "outputs": [
        {
          "output_type": "stream",
          "name": "stdout",
          "text": [
            "Requirement already satisfied: scikit-learn in /usr/local/lib/python3.11/dist-packages (1.6.1)\n",
            "Requirement already satisfied: pandas in /usr/local/lib/python3.11/dist-packages (2.2.2)\n",
            "Requirement already satisfied: numpy in /usr/local/lib/python3.11/dist-packages (2.0.2)\n",
            "Requirement already satisfied: scipy>=1.6.0 in /usr/local/lib/python3.11/dist-packages (from scikit-learn) (1.15.3)\n",
            "Requirement already satisfied: joblib>=1.2.0 in /usr/local/lib/python3.11/dist-packages (from scikit-learn) (1.5.0)\n",
            "Requirement already satisfied: threadpoolctl>=3.1.0 in /usr/local/lib/python3.11/dist-packages (from scikit-learn) (3.6.0)\n",
            "Requirement already satisfied: python-dateutil>=2.8.2 in /usr/local/lib/python3.11/dist-packages (from pandas) (2.9.0.post0)\n",
            "Requirement already satisfied: pytz>=2020.1 in /usr/local/lib/python3.11/dist-packages (from pandas) (2025.2)\n",
            "Requirement already satisfied: tzdata>=2022.7 in /usr/local/lib/python3.11/dist-packages (from pandas) (2025.2)\n",
            "Requirement already satisfied: six>=1.5 in /usr/local/lib/python3.11/dist-packages (from python-dateutil>=2.8.2->pandas) (1.17.0)\n"
          ]
        }
      ]
    },
    {
      "cell_type": "code",
      "source": [
        "import pandas as pd\n",
        "import numpy as np\n",
        "from sklearn.impute import SimpleImputer\n",
        "from sklearn.preprocessing import StandardScaler, OrdinalEncoder\n",
        "from sklearn.compose import ColumnTransformer\n",
        "from sklearn.pipeline import Pipeline\n",
        "from sklearn.feature_selection import VarianceThreshold\n",
        "\n",
        "# Load the uploaded CSV\n",
        "df = pd.read_csv('Week3_GA_dataset.csv')\n",
        "\n",
        "# Replace \"?\" with np.nan\n",
        "df = df.replace(\"?\", np.nan)\n",
        "\n",
        "# Select features\n",
        "X = df[['V1', 'V2', 'V3', 'V4', 'V5']]\n",
        "X[['V1', 'V2']] = X[['V1', 'V2']].astype(float)  # Convert to float\n",
        "\n",
        "# Define pipelines\n",
        "imputer_scaler = Pipeline([\n",
        "    ('imputer', SimpleImputer(strategy='mean')),\n",
        "    ('scaler', StandardScaler())\n",
        "])\n",
        "\n",
        "encoder = Pipeline([\n",
        "    ('encoder', OrdinalEncoder())\n",
        "])\n",
        "\n",
        "# Combine using ColumnTransformer (mimicking FeatureUnion)\n",
        "preprocessor = ColumnTransformer([\n",
        "    ('num', imputer_scaler, ['V1', 'V2', 'V3', 'V4']),\n",
        "    ('cat', encoder, ['V5'])\n",
        "])\n",
        "\n",
        "# Full pipeline\n",
        "full_pipeline = Pipeline([\n",
        "    ('preprocessing', preprocessor),\n",
        "    ('variance_threshold', VarianceThreshold(threshold=0.1))\n",
        "])\n",
        "\n",
        "# Fit and transform\n",
        "X_transformed = full_pipeline.fit_transform(X)\n",
        "\n",
        "# Output number of features after processing\n",
        "print(f\"Number of features remaining: {X_transformed.shape[1]}\")\n"
      ],
      "metadata": {
        "colab": {
          "base_uri": "https://localhost:8080/"
        },
        "id": "ZAm0ds2dtFbE",
        "outputId": "e064c12d-02fe-41e2-a64c-e1a7132d2928"
      },
      "execution_count": 3,
      "outputs": [
        {
          "output_type": "stream",
          "name": "stdout",
          "text": [
            "Number of features remaining: 4\n"
          ]
        },
        {
          "output_type": "stream",
          "name": "stderr",
          "text": [
            "<ipython-input-3-5365476b6607>:17: SettingWithCopyWarning: \n",
            "A value is trying to be set on a copy of a slice from a DataFrame.\n",
            "Try using .loc[row_indexer,col_indexer] = value instead\n",
            "\n",
            "See the caveats in the documentation: https://pandas.pydata.org/pandas-docs/stable/user_guide/indexing.html#returning-a-view-versus-a-copy\n",
            "  X[['V1', 'V2']] = X[['V1', 'V2']].astype(float)  # Convert to float\n"
          ]
        }
      ]
    },
    {
      "cell_type": "markdown",
      "source": [
        "Q3 . What are the two most important features computed by RFE?\n",
        "\n",
        "    Preprocess the data using pipeline shown in the diagram. Use LogisticRegression (with default parameters) for the estimator. Encode target variable via ordinal encoding"
      ],
      "metadata": {
        "id": "sGPisfIhv0cl"
      }
    },
    {
      "cell_type": "code",
      "source": [
        "import pandas as pd\n",
        "import numpy as np\n",
        "from sklearn.pipeline import Pipeline\n",
        "from sklearn.compose import ColumnTransformer\n",
        "from sklearn.impute import SimpleImputer\n",
        "from sklearn.preprocessing import StandardScaler, OrdinalEncoder\n",
        "from sklearn.feature_selection import RFE, VarianceThreshold\n",
        "from sklearn.linear_model import LogisticRegression\n",
        "\n",
        "# Full pipeline with variance threshold\n",
        "full_pipeline = Pipeline([\n",
        "    ('preprocessor', preprocessor),\n",
        "    ('variance_threshold', VarianceThreshold(threshold=0.1))\n",
        "])\n",
        "\n",
        "# Apply preprocessing and variance filter\n",
        "X_processed = full_pipeline.fit_transform(X)\n",
        "\n",
        "# Apply RFE with Logistic Regression to select 2 most important features\n",
        "rfe = RFE(estimator=LogisticRegression(), n_features_to_select=2)\n",
        "rfe.fit(X_processed, y)\n",
        "\n",
        "# Get selected feature indices\n",
        "selected_indices = rfe.get_support(indices=True)\n",
        "print(\"Selected feature indices:\", selected_indices)\n"
      ],
      "metadata": {
        "colab": {
          "base_uri": "https://localhost:8080/"
        },
        "id": "8G3KEKfgv231",
        "outputId": "3de429ee-33bd-475d-d996-5cf4db459e51"
      },
      "execution_count": 8,
      "outputs": [
        {
          "output_type": "stream",
          "name": "stdout",
          "text": [
            "Selected feature indices: [0 2]\n"
          ]
        }
      ]
    },
    {
      "cell_type": "markdown",
      "source": [
        "Q2 . What are the two most important features computed by RFE?\n",
        "\n",
        "    Preprocess the data using pipeline shown in the diagram. Use LogisticRegression (with default parameters) for the estimator. Encode target variable via ordinal encoding."
      ],
      "metadata": {
        "id": "nqTLMph9tNJL"
      }
    },
    {
      "cell_type": "code",
      "source": [
        "import pandas as pd\n",
        "import numpy as np\n",
        "from sklearn.impute import SimpleImputer\n",
        "from sklearn.preprocessing import StandardScaler, OrdinalEncoder\n",
        "from sklearn.compose import ColumnTransformer\n",
        "from sklearn.pipeline import Pipeline\n",
        "from sklearn.linear_model import LogisticRegression\n",
        "from sklearn.feature_selection import SequentialFeatureSelector\n",
        "\n",
        "# Load the uploaded dataset\n",
        "df = pd.read_csv('Week3_GA_dataset.csv')\n",
        "\n",
        "# Replace '?' with NaN\n",
        "df = df.replace(\"?\", np.nan)\n",
        "\n",
        "# Select input features\n",
        "X = df[['V1', 'V2', 'V3', 'V4', 'V5']]\n",
        "X[['V1', 'V2']] = X[['V1', 'V2']].astype(float)  # Convert to float\n",
        "\n",
        "# Encode the target variable\n",
        "target_encoder = OrdinalEncoder()\n",
        "y = target_encoder.fit_transform(df[['Target']]).ravel()\n",
        "\n",
        "# Define pipelines for preprocessing\n",
        "imputer_scaler_pipeline = Pipeline([\n",
        "    ('imputer', SimpleImputer(strategy='mean')),\n",
        "    ('scaler', StandardScaler())\n",
        "])\n",
        "\n",
        "encoder_pipeline = Pipeline([\n",
        "    ('encoder', OrdinalEncoder())\n",
        "])\n",
        "\n",
        "# Combine transformers\n",
        "preprocessor = ColumnTransformer([\n",
        "    ('num', imputer_scaler_pipeline, ['V1', 'V2', 'V3', 'V4']),\n",
        "    ('cat', encoder_pipeline, ['V5'])\n",
        "])\n",
        "\n",
        "# Preprocess the feature matrix\n",
        "X_processed = preprocessor.fit_transform(X)\n",
        "\n",
        "# Apply Sequential Forward Selection\n",
        "model = LogisticRegression()\n",
        "sfs = SequentialFeatureSelector(model, n_features_to_select=2, direction='forward')\n",
        "sfs.fit(X_processed, y)\n",
        "\n",
        "# Output the selected feature indices\n",
        "print(\"Selected feature indices:\", sfs.get_support(indices=True))\n"
      ],
      "metadata": {
        "colab": {
          "base_uri": "https://localhost:8080/"
        },
        "id": "DqawFe9btQYW",
        "outputId": "1ca065fb-c231-439c-b9b6-cb1ee6f468e2"
      },
      "execution_count": 4,
      "outputs": [
        {
          "output_type": "stream",
          "name": "stderr",
          "text": [
            "<ipython-input-4-56efd7105e56>:18: SettingWithCopyWarning: \n",
            "A value is trying to be set on a copy of a slice from a DataFrame.\n",
            "Try using .loc[row_indexer,col_indexer] = value instead\n",
            "\n",
            "See the caveats in the documentation: https://pandas.pydata.org/pandas-docs/stable/user_guide/indexing.html#returning-a-view-versus-a-copy\n",
            "  X[['V1', 'V2']] = X[['V1', 'V2']].astype(float)  # Convert to float\n"
          ]
        },
        {
          "output_type": "stream",
          "name": "stdout",
          "text": [
            "Selected feature indices: [1 3]\n"
          ]
        }
      ]
    },
    {
      "cell_type": "markdown",
      "source": [
        "Q4 .\n",
        "1 point\n",
        "What are the indices of two most important features computed by SFS (backward)?\n",
        "\n",
        "    Preprocess the data using pipeline shown in the diagram. Use LogisticRegression (with default parameters) for the estimator. Encode target variable via ordinal encoding"
      ],
      "metadata": {
        "id": "QMzDgslIvS-N"
      }
    },
    {
      "cell_type": "code",
      "source": [
        "from sklearn.linear_model import LogisticRegression\n",
        "from sklearn.feature_selection import SequentialFeatureSelector\n",
        "\n",
        "# Use the preprocessed data from earlier (X_processed and y)\n",
        "\n",
        "# Backward Sequential Feature Selection\n",
        "model = LogisticRegression()\n",
        "sfs_backward = SequentialFeatureSelector(model, n_features_to_select=2, direction='backward')\n",
        "sfs_backward.fit(X_processed, y)\n",
        "\n",
        "# Print selected feature indices\n",
        "print(\"Selected feature indices (backward):\", sfs_backward.get_support(indices=True))\n"
      ],
      "metadata": {
        "colab": {
          "base_uri": "https://localhost:8080/"
        },
        "id": "_eNs8KAeuI3t",
        "outputId": "a6c7c72a-376e-414a-ad3e-0f6b0f3ed8f4"
      },
      "execution_count": 5,
      "outputs": [
        {
          "output_type": "stream",
          "name": "stdout",
          "text": [
            "Selected feature indices (backward): [2 3]\n"
          ]
        }
      ]
    },
    {
      "cell_type": "code",
      "source": [
        "# Preprocess features\n",
        "X_preprocessed = preprocessor.fit_transform(X)\n",
        "\n",
        "# Initialize Logistic Regression\n",
        "model = LogisticRegression()\n",
        "\n",
        "# Sequential Feature Selector (backward)\n",
        "sfs = SequentialFeatureSelector(model, n_features_to_select=2, direction='backward')\n",
        "sfs.fit(X_preprocessed, y)\n",
        "\n",
        "# Show selected feature indices\n",
        "selected_indices = sfs.get_support(indices=True)\n",
        "print(\"Selected feature indices:\", selected_indices)\n"
      ],
      "metadata": {
        "colab": {
          "base_uri": "https://localhost:8080/"
        },
        "id": "VbOrgz_Wu3YM",
        "outputId": "d7b91edf-8048-4db4-eac8-11195d682365"
      },
      "execution_count": 6,
      "outputs": [
        {
          "output_type": "stream",
          "name": "stdout",
          "text": [
            "Selected feature indices: [2 3]\n"
          ]
        }
      ]
    }
  ]
}